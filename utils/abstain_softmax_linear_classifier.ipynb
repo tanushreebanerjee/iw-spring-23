{
 "cells": [
  {
   "cell_type": "code",
   "execution_count": 13,
   "metadata": {},
   "outputs": [],
   "source": [
    "import pandas as pd\n",
    "import configs_py3 as configs\n",
    "import matplotlib.pyplot as plt\n",
    "from PIL import Image\n",
    "import numpy as np\n",
    "import utilities as utils\n",
    "from transformers import ViltProcessor, ViltForQuestionAnswering\n",
    "import torch\n",
    "import os\n",
    "import skimage.io as io"
   ]
  },
  {
   "cell_type": "code",
   "execution_count": 21,
   "metadata": {},
   "outputs": [],
   "source": [
    "def get_val_set_labelled():\n",
    "    \n",
    "    model = ViltForQuestionAnswering.from_pretrained(configs.CHECKPOINT)\n",
    "    processor = ViltProcessor.from_pretrained(configs.CHECKPOINT)\n",
    "\n",
    "    df, train_df, val_df, test_df = utils.load_dataset()\n",
    "\n",
    "    original_model_outputs = []\n",
    " \n",
    "    softmax_outputs = []\n",
    "    isRandom_Question = []\n",
    "    \n",
    "    for index, row in val_df.head(int(len(val_df)/2)).iterrows():\n",
    "        imgId = row['image_id']\n",
    "        imgFilename = 'COCO_' + configs.dataSubType + '_'+ str(imgId).zfill(12) + '.jpg'\n",
    "        imgPath = configs.imgDir + imgFilename\n",
    "        \n",
    "        if not os.path.isfile(imgPath):\n",
    "            continue\n",
    "        \n",
    "            \n",
    "        image = Image.open(imgPath)\n",
    "        text = row['original_question']\n",
    "        isRandom_Question.append(0)\n",
    "        # prepare inputs\n",
    "        try:\n",
    "            inputs = processor(image, text, return_tensors=\"pt\")\n",
    "        except Exception as e:\n",
    "            I = io.imread(imgPath)\n",
    "        \n",
    "            plt.imshow(I)\n",
    "            plt.axis('off')\n",
    "            plt.show()\n",
    "            print(e, \"==> Skipping this image\")\n",
    "          \n",
    "            original_model_outputs.append(\"N/A\")\n",
    "            softmax_outputs.append(\"N/A\")\n",
    "            continue                \n",
    "        # forward pass\n",
    "        with torch.no_grad():\n",
    "            outputs = model(**inputs)\n",
    "        \n",
    "        logits = outputs.logits\n",
    "        idx = logits.argmax(-1).item()\n",
    "        \n",
    "        softmax_output = torch.nn.functional.softmax(outputs.logits, dim=1)\n",
    "        softmax_output = softmax_output[0, idx].item()\n",
    "        softmax_outputs.append(softmax_output)\n",
    "        \n",
    "        original_model_outputs.append(model.config.id2label[idx])\n",
    "        \n",
    "        \n",
    "        \n",
    "        \n",
    "    \n",
    "    for index, row in val_df.tail(len(val_df) - int(len(val_df)/2)).iterrows():\n",
    "        imgId = row['image_id']\n",
    "        imgFilename = 'COCO_' + configs.dataSubType + '_'+ str(imgId).zfill(12) + '.jpg'\n",
    "        imgPath = configs.imgDir + imgFilename\n",
    "        \n",
    "        if not os.path.isfile(imgPath):\n",
    "            continue\n",
    "        \n",
    "            \n",
    "        image = Image.open(imgPath)\n",
    "        text = row['random_question']\n",
    "        isRandom_Question.append(1)\n",
    "        # prepare inputs\n",
    "        try:\n",
    "            inputs = processor(image, text, return_tensors=\"pt\")\n",
    "        except Exception as e:\n",
    "            I = io.imread(imgPath)\n",
    "        \n",
    "            plt.imshow(I)\n",
    "            plt.axis('off')\n",
    "            plt.show()\n",
    "            print(e, \"==> Skipping this image\")\n",
    "          \n",
    "            original_model_outputs.append(\"N/A\")\n",
    "            softmax_outputs.append(\"N/A\")\n",
    "            continue                \n",
    "        # forward pass\n",
    "        with torch.no_grad():\n",
    "            outputs = model(**inputs)\n",
    "        \n",
    "        logits = outputs.logits\n",
    "        idx = logits.argmax(-1).item()\n",
    "        \n",
    "        softmax_output = torch.nn.functional.softmax(outputs.logits, dim=1)\n",
    "        softmax_output = softmax_output[0, idx].item()\n",
    "        softmax_outputs.append(softmax_output)\n",
    "        \n",
    "        original_model_outputs.append(model.config.id2label[idx])\n",
    "        \n",
    "        \n",
    "        \n",
    "    \n",
    "    val_df[f'original_model_outputs'] = original_model_outputs\n",
    "    val_df['softmax_outputs'] = softmax_outputs\n",
    "    \n",
    "    val_df['isRandomQuestion'] = isRandom_Question\n",
    "    \n",
    "    return val_df"
   ]
  },
  {
   "cell_type": "code",
   "execution_count": 22,
   "metadata": {},
   "outputs": [],
   "source": [
    "val_df =  get_val_set_labelled()"
   ]
  },
  {
   "cell_type": "code",
   "execution_count": null,
   "metadata": {},
   "outputs": [],
   "source": [
    "X = val_df.softmax_outputs\n",
    "Y = val_df.isRandomQuestion"
   ]
  },
  {
   "cell_type": "code",
   "execution_count": 17,
   "metadata": {},
   "outputs": [
    {
     "ename": "NameError",
     "evalue": "name 'X' is not defined",
     "output_type": "error",
     "traceback": [
      "\u001b[0;31m---------------------------------------------------------------------------\u001b[0m",
      "\u001b[0;31mNameError\u001b[0m                                 Traceback (most recent call last)",
      "\u001b[0;32m/tmp/ipykernel_2492098/438272940.py\u001b[0m in \u001b[0;36m<module>\u001b[0;34m\u001b[0m\n\u001b[1;32m      5\u001b[0m     \u001b[0;32mdef\u001b[0m \u001b[0mforward\u001b[0m\u001b[0;34m(\u001b[0m\u001b[0mself\u001b[0m\u001b[0;34m,\u001b[0m \u001b[0minput_dimension\u001b[0m\u001b[0;34m)\u001b[0m\u001b[0;34m:\u001b[0m\u001b[0;34m\u001b[0m\u001b[0;34m\u001b[0m\u001b[0m\n\u001b[1;32m      6\u001b[0m             \u001b[0;32mreturn\u001b[0m \u001b[0mself\u001b[0m\u001b[0;34m.\u001b[0m\u001b[0mlinear\u001b[0m\u001b[0;34m(\u001b[0m\u001b[0minput_dimension\u001b[0m\u001b[0;34m)\u001b[0m\u001b[0;34m\u001b[0m\u001b[0;34m\u001b[0m\u001b[0m\n\u001b[0;32m----> 7\u001b[0;31m \u001b[0m_\u001b[0m\u001b[0;34m,\u001b[0m \u001b[0minput_dimension\u001b[0m \u001b[0;34m=\u001b[0m \u001b[0mX\u001b[0m\u001b[0;34m.\u001b[0m\u001b[0mshape\u001b[0m\u001b[0;34m\u001b[0m\u001b[0;34m\u001b[0m\u001b[0m\n\u001b[0m\u001b[1;32m      8\u001b[0m \u001b[0mmodel\u001b[0m \u001b[0;34m=\u001b[0m \u001b[0mBinaryClassification\u001b[0m\u001b[0;34m(\u001b[0m\u001b[0minput_dimension\u001b[0m\u001b[0;34m)\u001b[0m\u001b[0;34m\u001b[0m\u001b[0;34m\u001b[0m\u001b[0m\n",
      "\u001b[0;31mNameError\u001b[0m: name 'X' is not defined"
     ]
    }
   ],
   "source": [
    "class BinaryClassification(torch.nn.Module):\n",
    "    def __init__(self, input_dimension):\n",
    "            super().__init__()\n",
    "            self.linear = torch.nn.Linear(input_dimension, 1)\n",
    "    def forward(self, input_dimension):\n",
    "            return self.linear(input_dimension)\n",
    "\n",
    "_, input_dimension = X.shape\n",
    "model = BinaryClassification(input_dimension)"
   ]
  },
  {
   "cell_type": "code",
   "execution_count": 93,
   "metadata": {},
   "outputs": [
    {
     "name": "stdout",
     "output_type": "stream",
     "text": [
      "Abstain ratio for threshold 0.1 is 0.032\n",
      "Abstain ratio for threshold 0.2 is 0.151\n",
      "Abstain ratio for threshold 0.30000000000000004 is 0.298\n",
      "Abstain ratio for threshold 0.4 is 0.422\n",
      "Abstain ratio for threshold 0.5 is 0.544\n",
      "Abstain ratio for threshold 0.6 is 0.644\n",
      "Abstain ratio for threshold 0.7000000000000001 is 0.722\n",
      "Abstain ratio for threshold 0.8 is 0.802\n",
      "Abstain ratio for threshold 0.9 is 0.87\n"
     ]
    }
   ],
   "source": [
    "abstain_ratio_dict = {}\n",
    "for threshold in np.arange(0.1, 1.0, 0.1):\n",
    "\n",
    "    thresholded_model_outputs = get_thresholded_output(original_model_outputs, softmax_outputs, threshold=threshold)\n",
    "   \n",
    "    val_df[f'thresholded_model_outputs_{threshold}'] = thresholded_model_outputs\n",
    "   \n",
    "    abstain_ratio_dict[threshold] = len(val_df[val_df[f'thresholded_model_outputs_{threshold}'] == \"ABSTAIN\"]) / len(val_df)\n",
    "    print(f\"Abstain ratio for threshold {threshold} is {abstain_ratio_dict[threshold]}\")\n",
    "val_df.to_csv(configs.output_path, index=False)"
   ]
  },
  {
   "cell_type": "code",
   "execution_count": 96,
   "metadata": {},
   "outputs": [
    {
     "data": {
      "text/plain": [
       "[0.1, 0.2, 0.30000000000000004, 0.4, 0.5, 0.6, 0.7000000000000001, 0.8, 0.9]"
      ]
     },
     "execution_count": 96,
     "metadata": {},
     "output_type": "execute_result"
    }
   ],
   "source": [
    "list(abstain_ratio_dict.keys())"
   ]
  },
  {
   "cell_type": "code",
   "execution_count": 107,
   "metadata": {},
   "outputs": [
    {
     "data": {
      "image/png": "[encoded data removed]",
      "text/plain": [
       "<Figure size 432x288 with 1 Axes>"
      ]
     },
     "metadata": {
      "needs_background": "light"
     },
     "output_type": "display_data"
    }
   ],
   "source": [
    "threshold_vals = list(abstain_ratio_dict.keys())\n",
    "abstain_ratio_vals = list(abstain_ratio_dict.values())\n",
    "plt.plot(threshold_vals, abstain_ratio_vals, 'b-x')\n",
    "plt.xlabel(\"Softmax threshold\")\n",
    "plt.ylabel(\"Abstain Ratio\")\n",
    "plt.title(\"Abstain Ratio vs Softmax threshold\")\n",
    "plt.show()"
   ]
  }
 ],
 "metadata": {
  "kernelspec": {
   "display_name": "iw_vqa",
   "language": "python",
   "name": "python3"
  },
  "language_info": {
   "codemirror_mode": {
    "name": "ipython",
    "version": 3
   },
   "file_extension": ".py",
   "mimetype": "text/x-python",
   "name": "python",
   "nbconvert_exporter": "python",
   "pygments_lexer": "ipython3",
   "version": "3.7.4"
  },
  "orig_nbformat": 4,
  "vscode": {
   "interpreter": {
    "hash": "dcc2af7ef86f90de1c6e0bf1a35e4bb8769bf3629c1831525498d81e5b2ba8e9"
   }
  }
 },
 "nbformat": 4,
 "nbformat_minor": 2
}
