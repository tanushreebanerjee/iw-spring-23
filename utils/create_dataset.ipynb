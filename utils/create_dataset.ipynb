{
 "cells": [
  {
   "cell_type": "code",
   "execution_count": 69,
   "metadata": {},
   "outputs": [],
   "source": [
    "# coding: utf-8\n",
    "\n",
    "# note: use python 2.7 (iw_dataset)\n",
    "import sys\n",
    "sys.path.append('../VQA/PythonHelperTools')\n",
    "from vqaTools.vqa import VQA\n",
    "import random\n",
    "import os\n",
    "import configs_py2 as configs\n",
    "import pandas as pd\n",
    "import json"
   ]
  },
  {
   "cell_type": "code",
   "execution_count": 70,
   "metadata": {},
   "outputs": [
    {
     "name": "stdout",
     "output_type": "stream",
     "text": [
      "loading VQA annotations and questions into memory...\n",
      "0:00:06.685289\n",
      "creating index...\n",
      "index created!\n"
     ]
    }
   ],
   "source": [
    "# initialize VQA api for QA annotations\n",
    "vqa=VQA(configs.annFile, configs.quesFile)"
   ]
  },
  {
   "cell_type": "code",
   "execution_count": 71,
   "metadata": {},
   "outputs": [],
   "source": [
    "# load all annotations and store in a dataframe\n",
    "annIds = vqa.getQuesIds()\n",
    "anns = vqa.loadQA(annIds)\n",
    "df=pd.DataFrame(anns)"
   ]
  },
  {
   "cell_type": "code",
   "execution_count": 72,
   "metadata": {},
   "outputs": [],
   "source": [
    "# shuffle dataset randomly\n",
    "df = df.sample(frac=1, random_state=configs.RANDOM_SEED).reset_index(drop=True)\n",
    "\n",
    "#filter dataset as necessary\n",
    "# only consider non yes/no and non-number answer type\n",
    "df = df[df.answer_type==\"other\"]"
   ]
  },
  {
   "cell_type": "code",
   "execution_count": 73,
   "metadata": {},
   "outputs": [],
   "source": [
    "# randomly permute question ids and store in a new column\n",
    "random_question_id = df.question_id.tolist()\n",
    "random.seed(configs.RANDOM_SEED)\n",
    "random.shuffle(random_question_id)\n",
    "df['random_question_id'] = random_question_id"
   ]
  },
  {
   "cell_type": "code",
   "execution_count": 74,
   "metadata": {},
   "outputs": [],
   "source": [
    "# get questions corresponding to the random question ids\n",
    "random_question = [vqa.qqa[quesId]['question'] for quesId in random_question_id]\n",
    "random_question = [item.encode('UTF8') for item in random_question]\n",
    "\n",
    "# get questions corresponding to the original question ids\n",
    "original_question_id = df.question_id.tolist()\n",
    "original_question = [vqa.qqa[quesId]['question'] for quesId in original_question_id]\n",
    "original_question = [item.encode('UTF8') for item in original_question]"
   ]
  },
  {
   "cell_type": "code",
   "execution_count": 75,
   "metadata": {},
   "outputs": [],
   "source": [
    "#store original and random questions in a new column in the dataframe\n",
    "df['random_question'] = random_question\n",
    "df['original_question'] = original_question"
   ]
  },
  {
   "cell_type": "code",
   "execution_count": 76,
   "metadata": {},
   "outputs": [
    {
     "data": {
      "text/html": [
       "<div>\n",
       "<style scoped>\n",
       "    .dataframe tbody tr th:only-of-type {\n",
       "        vertical-align: middle;\n",
       "    }\n",
       "\n",
       "    .dataframe tbody tr th {\n",
       "        vertical-align: top;\n",
       "    }\n",
       "\n",
       "    .dataframe thead th {\n",
       "        text-align: right;\n",
       "    }\n",
       "</style>\n",
       "<table border=\"1\" class=\"dataframe\">\n",
       "  <thead>\n",
       "    <tr style=\"text-align: right;\">\n",
       "      <th></th>\n",
       "      <th>answer_type</th>\n",
       "      <th>answers</th>\n",
       "      <th>image_id</th>\n",
       "      <th>multiple_choice_answer</th>\n",
       "      <th>question_id</th>\n",
       "      <th>question_type</th>\n",
       "      <th>random_question_id</th>\n",
       "      <th>random_question</th>\n",
       "      <th>original_question</th>\n",
       "    </tr>\n",
       "  </thead>\n",
       "  <tbody>\n",
       "    <tr>\n",
       "      <th>3</th>\n",
       "      <td>other</td>\n",
       "      <td>[{u'answer': u'hat', u'answer_confidence': u'y...</td>\n",
       "      <td>264853</td>\n",
       "      <td>visor</td>\n",
       "      <td>264853000</td>\n",
       "      <td>what is</td>\n",
       "      <td>105335001</td>\n",
       "      <td>What food is cooked?</td>\n",
       "      <td>What is covering the man's eyes?</td>\n",
       "    </tr>\n",
       "    <tr>\n",
       "      <th>5</th>\n",
       "      <td>other</td>\n",
       "      <td>[{u'answer': u'stay in your lane', u'answer_co...</td>\n",
       "      <td>526401</td>\n",
       "      <td>wear helmet</td>\n",
       "      <td>526401003</td>\n",
       "      <td>none of the above</td>\n",
       "      <td>405047001</td>\n",
       "      <td>What color is the outline of the sign painted ...</td>\n",
       "      <td>Something you would say to give advice to anyo...</td>\n",
       "    </tr>\n",
       "    <tr>\n",
       "      <th>12</th>\n",
       "      <td>other</td>\n",
       "      <td>[{u'answer': u'flying kite', u'answer_confiden...</td>\n",
       "      <td>551910</td>\n",
       "      <td>flying kite</td>\n",
       "      <td>551910010</td>\n",
       "      <td>what is this</td>\n",
       "      <td>450500003</td>\n",
       "      <td>What color shirt is the most common?</td>\n",
       "      <td>What is this person doing?</td>\n",
       "    </tr>\n",
       "    <tr>\n",
       "      <th>13</th>\n",
       "      <td>other</td>\n",
       "      <td>[{u'answer': u'teddy bear', u'answer_confidenc...</td>\n",
       "      <td>195406</td>\n",
       "      <td>teddy bear</td>\n",
       "      <td>195406002</td>\n",
       "      <td>what kind of</td>\n",
       "      <td>202886000</td>\n",
       "      <td>What side is the broccoli place on?</td>\n",
       "      <td>What kind of toy is this?</td>\n",
       "    </tr>\n",
       "    <tr>\n",
       "      <th>17</th>\n",
       "      <td>other</td>\n",
       "      <td>[{u'answer': u'green', u'answer_confidence': u...</td>\n",
       "      <td>138382</td>\n",
       "      <td>green</td>\n",
       "      <td>138382006</td>\n",
       "      <td>what color is the</td>\n",
       "      <td>11156002</td>\n",
       "      <td>What is the main color of the bag?</td>\n",
       "      <td>What Color is the vegetable?</td>\n",
       "    </tr>\n",
       "  </tbody>\n",
       "</table>\n",
       "</div>"
      ],
      "text/plain": [
       "   answer_type                                            answers  image_id  \\\n",
       "3        other  [{u'answer': u'hat', u'answer_confidence': u'y...    264853   \n",
       "5        other  [{u'answer': u'stay in your lane', u'answer_co...    526401   \n",
       "12       other  [{u'answer': u'flying kite', u'answer_confiden...    551910   \n",
       "13       other  [{u'answer': u'teddy bear', u'answer_confidenc...    195406   \n",
       "17       other  [{u'answer': u'green', u'answer_confidence': u...    138382   \n",
       "\n",
       "   multiple_choice_answer  question_id      question_type  random_question_id  \\\n",
       "3                   visor    264853000            what is           105335001   \n",
       "5             wear helmet    526401003  none of the above           405047001   \n",
       "12            flying kite    551910010       what is this           450500003   \n",
       "13             teddy bear    195406002       what kind of           202886000   \n",
       "17                  green    138382006  what color is the            11156002   \n",
       "\n",
       "                                      random_question  \\\n",
       "3                                What food is cooked?   \n",
       "5   What color is the outline of the sign painted ...   \n",
       "12               What color shirt is the most common?   \n",
       "13                What side is the broccoli place on?   \n",
       "17                 What is the main color of the bag?   \n",
       "\n",
       "                                    original_question  \n",
       "3                    What is covering the man's eyes?  \n",
       "5   Something you would say to give advice to anyo...  \n",
       "12                         What is this person doing?  \n",
       "13                          What kind of toy is this?  \n",
       "17                       What Color is the vegetable?  "
      ]
     },
     "execution_count": 76,
     "metadata": {},
     "output_type": "execute_result"
    }
   ],
   "source": [
    "df.head()"
   ]
  },
  {
   "cell_type": "code",
   "execution_count": 77,
   "metadata": {},
   "outputs": [],
   "source": [
    "# store updated dataframe in a csv file\n",
    "if not os.path.exists(configs.experimentDatasetDir):\n",
    "   os.makedirs(configs.experimentDatasetDir)\n",
    "dataset_path = \"%s/%s%s_%s_%s.csv\" % (configs.experimentDatasetDir, configs.versionType, configs.taskType, configs.dataType, configs.dataSubType)\n",
    "df.to_csv(dataset_path, index=False)"
   ]
  }
 ],
 "metadata": {
  "kernelspec": {
   "display_name": "Python 2",
   "language": "python",
   "name": "python2"
  },
  "language_info": {
   "codemirror_mode": {
    "name": "ipython",
    "version": 2
   },
   "file_extension": ".py",
   "mimetype": "text/x-python",
   "name": "python",
   "nbconvert_exporter": "python",
   "pygments_lexer": "ipython2",
   "version": "2.7.15"
  },
  "orig_nbformat": 4,
  "vscode": {
   "interpreter": {
    "hash": "31f2aee4e71d21fbe5cf8b01ff0e069b9275f58929596ceb00d14d90e3e16cd6"
   }
  }
 },
 "nbformat": 4,
 "nbformat_minor": 2
}
