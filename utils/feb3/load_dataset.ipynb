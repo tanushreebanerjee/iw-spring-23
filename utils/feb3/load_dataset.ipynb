{
 "cells": [
  {
   "cell_type": "code",
   "execution_count": 1,
   "metadata": {},
   "outputs": [
    {
     "name": "stderr",
     "output_type": "stream",
     "text": [
      "/n/fs/nlp-runzhey/miniconda3/envs/iw_vqa/lib/python3.7/site-packages/tqdm/auto.py:22: TqdmWarning: IProgress not found. Please update jupyter and ipywidgets. See https://ipywidgets.readthedocs.io/en/stable/user_install.html\n",
      "  from .autonotebook import tqdm as notebook_tqdm\n"
     ]
    }
   ],
   "source": [
    "from datasets import load_dataset, load_dataset_builder, Image, get_dataset_split_names\n",
    "import pandas as pd\n",
    "import base64\n",
    "import io\n",
    "import numpy as np\n",
    "import pickle as pkl"
   ]
  },
  {
   "cell_type": "code",
   "execution_count": 2,
   "metadata": {},
   "outputs": [],
   "source": [
    "DATASET_NAME = \"HuggingFaceM4/VQAv2\"\n",
    "\n",
    "ROOT = f\"..\"\n",
    "DATASET_PATH = f\"{ROOT}/datasets/VQAv2-full.csv\""
   ]
  },
  {
   "cell_type": "code",
   "execution_count": 3,
   "metadata": {},
   "outputs": [],
   "source": [
    "ds_builder = load_dataset_builder(DATASET_NAME)\n",
    "ds_description = ds_builder.info.description\n",
    "ds_features = ds_builder.info.features\n",
    "dataset = load_dataset(DATASET_NAME, streaming=True)\n",
    "ds_split_names = get_dataset_split_names(DATASET_NAME)"
   ]
  },
  {
   "cell_type": "code",
   "execution_count": 4,
   "metadata": {},
   "outputs": [],
   "source": [
    "question_type = []\n",
    "multiple_choice_answer = []\n",
    "answers = []\n",
    "image_id = []\n",
    "answer_type = []\n",
    "question_id = []\n",
    "question = []\n",
    "image = []\n",
    "split = []"
   ]
  },
  {
   "cell_type": "code",
   "execution_count": 5,
   "metadata": {},
   "outputs": [
    {
     "name": "stdout",
     "output_type": "stream",
     "text": [
      "test\n"
     ]
    }
   ],
   "source": [
    "\n",
    "for split_name in ds_split_names:\n",
    "    print(split_name)\n",
    "    for example in dataset[split_name]:\n",
    "        \n",
    "        question_type.append(example[\"question_type\"])\n",
    "        multiple_choice_answer.append(example[\"multiple_choice_answer\"])\n",
    "        answers.append(example[\"answers\"])\n",
    "        image_id.append(example[\"image_id\"])\n",
    "        answer_type.append(example[\"answer_type\"])\n",
    "        question_id.append(example[\"question_id\"])\n",
    "        question.append(example[\"question\"])\n",
    "        \n",
    " \n",
    "        img = example[\"image\"]\n",
    "            \n",
    "        img_arr = np.array(img)\n",
    "        \n",
    "        img_bytes_obj = pkl.dumps(img_arr)\n",
    "       \n",
    "        img_str = base64.b64encode(img_bytes_obj)\n",
    "        \n",
    "        \n",
    "        \n",
    "        \n",
    "        image.append(img_str)\n",
    "        split.append(split_name)\n",
    "        \n",
    "        \n",
    "\n"
   ]
  },
  {
   "cell_type": "code",
   "execution_count": 6,
   "metadata": {},
   "outputs": [],
   "source": [
    "df_dict = {\"question_type\": question_type,\n",
    "           \"multiple_choice_answer\": multiple_choice_answer,\n",
    "           \"answers\": answers,\n",
    "           \"image_id\": image_id,\n",
    "           \"answer_type\": answer_type,\n",
    "           \"question_id\": question_id,\n",
    "           \"question\": question,\n",
    "           \"image\":image,\n",
    "           \"split\": split}\n",
    "\n",
    "df = pd.DataFrame.from_dict(df_dict)\n",
    "df.to_csv(DATASET_PATH)"
   ]
  }
 ],
 "metadata": {
  "kernelspec": {
   "display_name": "iw_vqa",
   "language": "python",
   "name": "python3"
  },
  "language_info": {
   "codemirror_mode": {
    "name": "ipython",
    "version": 3
   },
   "file_extension": ".py",
   "mimetype": "text/x-python",
   "name": "python",
   "nbconvert_exporter": "python",
   "pygments_lexer": "ipython3",
   "version": "3.7.4"
  },
  "orig_nbformat": 4,
  "vscode": {
   "interpreter": {
    "hash": "dcc2af7ef86f90de1c6e0bf1a35e4bb8769bf3629c1831525498d81e5b2ba8e9"
   }
  }
 },
 "nbformat": 4,
 "nbformat_minor": 2
}
